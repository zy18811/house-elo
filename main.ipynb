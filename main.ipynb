{
 "cells": [
  {
   "cell_type": "code",
   "execution_count": 1,
   "metadata": {},
   "outputs": [],
   "source": [
    "import ipywidgets as widgets\n",
    "import pickle\n",
    "from IPython.display import display, clear_output\n",
    "from elo import add_player, elo_update"
   ]
  },
  {
   "cell_type": "code",
   "execution_count": 2,
   "metadata": {},
   "outputs": [],
   "source": [
    "class home_screen:\n",
    "    def __init__(self):\n",
    "        self.elo_display = widgets.Output()\n",
    "        \n",
    "\n",
    "        self.record_game = widgets.Button(\n",
    "                            description='Record Game',\n",
    "                            disabled=False,\n",
    "                            button_style='', # 'success', 'info', 'warning', 'danger' or ''\n",
    "                            tooltip='Record Game',)\n",
    "\n",
    "        self.add_player = widgets.Button(\n",
    "                            description='Add Player',\n",
    "                            disabled=False,\n",
    "                            button_style='', # 'success', 'info', 'warning', 'danger' or ''\n",
    "                            tooltip='Add Player',)\n",
    "\n",
    "    def handle_add_player(self,_):   \n",
    "        new_player = widgets.Text(\n",
    "            placeholder='New player name',\n",
    "            description='New player',\n",
    "            disabled=False)\n",
    "\n",
    "        def submit(_):\n",
    "            new_player_name = new_player.value\n",
    "            add_player(new_player_name)\n",
    "            self.home()\n",
    "\n",
    "        new_player.on_submit(submit)\n",
    "\n",
    "        clear_output()\n",
    "        \n",
    "        display(new_player)\n",
    "       \n",
    "    \n",
    "    def handle_record_game(self,_):\n",
    "        elo_df = elo_df = pickle.load(open('elo_df.pkl','rb'))\n",
    "        \n",
    "        player1 = widgets.Select(\n",
    "                        placeholder='Player 1',\n",
    "                        options=elo_df.columns.values,\n",
    "                        description='Player 1',\n",
    "                        ensure_option=True,\n",
    "                        disabled=False\n",
    "                    )\n",
    "        \n",
    "        player2 = widgets.Select(\n",
    "                        placeholder='Player 2',\n",
    "                        options=elo_df.columns.values,\n",
    "                        description='Player 2',\n",
    "                        ensure_option=True,\n",
    "                        disabled=False\n",
    "                    )\n",
    "        \n",
    "        outcome = widgets.RadioButtons(\n",
    "                    options=['Player 1 Win', 'Player 2 Win', 'Draw'],\n",
    "                    description='Game Outcome',\n",
    "                    disabled=False\n",
    "                )\n",
    "        \n",
    "        confirm = widgets.Button(\n",
    "                            description='Comfirm',\n",
    "                            disabled=False,\n",
    "                            button_style='', # 'success', 'info', 'warning', 'danger' or ''\n",
    "                            tooltip='Confirm',)\n",
    "        \n",
    "        \n",
    "        def handle_confirm(_):\n",
    "            player_1 = player1.value\n",
    "            player_2 = player2.value\n",
    "            \n",
    "            if player_1 == player_2:\n",
    "                self.handle_record_game(_)\n",
    "                \n",
    "            if outcome.value == 'Player 1 Win':\n",
    "                p1_score = 1\n",
    "                p2_score = 0\n",
    "            elif outcome.value == 'Player 1 Win':\n",
    "                p1_score = 0\n",
    "                p2_score = 1\n",
    "            elif outcome.value == 'Draw':\n",
    "                p1_score = 0.5\n",
    "                p2_score = 0.5\n",
    "                \n",
    "            elo_update(player_1, player_2, p1_score, p2_score)\n",
    "            self.home()\n",
    "        \n",
    "        confirm.on_click(handle_confirm)\n",
    "\n",
    "        player_select = widgets.HBox([player1,player2])\n",
    "        \n",
    "        options = widgets.VBox([player_select, outcome, confirm])\n",
    "        \n",
    "        clear_output()\n",
    "        display(options)\n",
    "        \n",
    "        \n",
    "    def home(self):\n",
    "        clear_output()\n",
    "        with self.elo_display:\n",
    "            clear_output()\n",
    "            elo_df = pickle.load(open('elo_df.pkl','rb'))\n",
    "            print(elo_df.iloc[-1].to_string())\n",
    "        \n",
    "        \n",
    "        self.add_player.on_click(self.handle_add_player)\n",
    "        self.record_game.on_click(self.handle_record_game)\n",
    "        \n",
    "        menu_buttons = widgets.HBox([self.record_game, self.add_player])\n",
    "\n",
    "        full = widgets.VBox([self.elo_display,menu_buttons])\n",
    "\n",
    "        display(full)\n",
    "        \n"
   ]
  },
  {
   "cell_type": "code",
   "execution_count": 3,
   "metadata": {
    "pycharm": {
     "name": "#%%\n"
    }
   },
   "outputs": [
    {
     "data": {
      "application/vnd.jupyter.widget-view+json": {
       "model_id": "32296333b43545c0a3a9747eacf57d90",
       "version_major": 2,
       "version_minor": 0
      },
      "text/plain": [
       "VBox(children=(Output(outputs=({'output_type': 'stream', 'text': 'Sam        1000\\nLuca       1000\\nAmy       …"
      ]
     },
     "metadata": {},
     "output_type": "display_data"
    }
   ],
   "source": [
    "h = home_screen()\n",
    "h.home()"
   ]
  }
 ],
 "metadata": {
  "kernelspec": {
   "display_name": "Python 3 (ipykernel)",
   "language": "python",
   "name": "python3"
  },
  "language_info": {
   "codemirror_mode": {
    "name": "ipython",
    "version": 3
   },
   "file_extension": ".py",
   "mimetype": "text/x-python",
   "name": "python",
   "nbconvert_exporter": "python",
   "pygments_lexer": "ipython3",
   "version": "3.8.8"
  }
 },
 "nbformat": 4,
 "nbformat_minor": 1
}